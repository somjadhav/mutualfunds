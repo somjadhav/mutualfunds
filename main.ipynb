{
 "cells": [
  {
   "cell_type": "markdown",
   "metadata": {},
   "source": [
    "When it comes to investing, comparing a fund's return to the S&P 500's return is often the best way to evaluate its performance. In this notebook, we will test out different machine learning techniques to see if we can predict, with a high degree of accuracy, whether or not a fund outperformed the S&P 500 from 2008 to 2018, a time period that included both a bull market and a bear market, and low and high commodity prices. While past performance does not guarantee future returns, it is safe to believe that over the long run, the value of most equity funds (ETFs and mutual funds with most of their assets in stocks) will appreciate. Therefore, if we can use machine learning to identify characteristics of these high performers, we may be able to use that data to predict whether or not a fund in the future will be able to outperform the S&P 500, something that could stand to make us a lot of money.\n",
    "\n",
    "The dataset (which I found on Kaggle) was scraped from Yahoo Finance and can be found [here](https://www.kaggle.com/stefanoleone992/mutual-funds-and-etfs).\n",
    "\n",
    "For a quick primer on what mutual funds and ETFs are, visit this [link](https://www.investopedia.com/articles/exchangetradedfunds/08/etf-mutual-fund-difference.asp)."
   ]
  },
  {
   "cell_type": "code",
   "execution_count": 28,
   "metadata": {},
   "outputs": [],
   "source": [
    "import pandas as pd\n",
    "import numpy as np\n",
    "import matplotlib.pyplot as plt\n",
    "import math\n",
    "\n",
    "from sklearn.model_selection import train_test_split\n",
    "from sklearn.preprocessing import MinMaxScaler\n",
    "from sklearn.decomposition import PCA\n",
    "from sklearn.model_selection import cross_val_score\n",
    "from sklearn.metrics import confusion_matrix\n",
    "from sklearn.metrics import classification_report\n",
    "from sklearn.model_selection import GridSearchCV\n",
    "\n",
    "%matplotlib inline"
   ]
  },
  {
   "cell_type": "markdown",
   "metadata": {},
   "source": [
    "We need to specify what each column's data type is. This will help us when we transform some of the columns."
   ]
  },
  {
   "cell_type": "code",
   "execution_count": 2,
   "metadata": {},
   "outputs": [],
   "source": [
    "col_types = {'net_assets':np.float64, 'fund_yield':np.float64,\n",
    "       'net_annual_expense_ratio_fund':np.float64,'portfolio_stocks':np.float64,\n",
    "       'price_earnings':np.float64, 'price_book':np.float64, 'price_sales':np.float64, 'price_cashflow':np.float64,\n",
    "       'basic_materials':np.float64, 'consumer_cyclical':np.float64, 'financial_services':np.float64,\n",
    "       'real_estate':np.float64, 'consumer_defensive':np.float64, 'healthcare':np.float64, 'utilities':np.float64,\n",
    "       'communication_services':np.float64, 'energy':np.float64, 'industrials':np.float64, 'technology':np.float64, \n",
    "       'fund_beta_3years':np.float64, 'fund_beta_5years':np.float64, 'fund_beta_10years':np.float64,\n",
    "       'fund_standard_deviation_3years':np.float64, 'fund_standard_deviation_5years':np.float64,\n",
    "       'fund_standard_deviation_10years':np.float64, 'fund_return_10years':np.float64}"
   ]
  },
  {
   "cell_type": "code",
   "execution_count": 3,
   "metadata": {},
   "outputs": [
    {
     "data": {
      "text/plain": [
       "25308"
      ]
     },
     "execution_count": 3,
     "metadata": {},
     "output_type": "execute_result"
    }
   ],
   "source": [
    "# read csv file and get number of rows in dataset\n",
    "df_mf = pd.read_csv('mfdata.csv',dtype=col_types)\n",
    "df_mf.shape[0]"
   ]
  },
  {
   "cell_type": "markdown",
   "metadata": {},
   "source": [
    "**Data Preparation/Cleaning**"
   ]
  },
  {
   "cell_type": "markdown",
   "metadata": {},
   "source": [
    "Seeing as we're trying to compare mutual funds to the S&P 500, we can only look at stock/equity mutual funds. Looking at the data, we can see that non-equity funds tend to have missing data for the 'investment' column. We also only want to look at rows which don't have missing data. Since returns are rarely 0, we will assume that a value of zero for the 10-year return is in fact, a missing value.\n",
    "\n",
    "Furthermore, we cannot consider any columns which are related to the return of the mutual fund, which means any rows with return data or any related metrics (Sharpe/Treynor ratio, alpha, fund $R^2$, etc.)"
   ]
  },
  {
   "cell_type": "code",
   "execution_count": 4,
   "metadata": {},
   "outputs": [],
   "source": [
    "# only select mutual funds that have data for investment, are heavily invested in stocks, and aren't missing return data \n",
    "df_mf = df_mf[(df_mf['investment'] == 'Blend') | (df_mf['investment'] == 'Growth') | (df_mf['investment'] == 'Value')]\n",
    "df_mf = df_mf[(df_mf['portfolio_stocks'] + df_mf['portfolio_cash']) > 95]\n",
    "df_mf = df_mf[df_mf['portfolio_stocks'] > 80]\n",
    "df_mf = df_mf[df_mf['fund_return_10years'] != 0]"
   ]
  },
  {
   "cell_type": "code",
   "execution_count": 5,
   "metadata": {},
   "outputs": [],
   "source": [
    "# get list of columns that we want to consider\n",
    "selected_columns = [\n",
    "       'net_assets', 'fund_yield', 'investment', 'size',\n",
    "       'net_annual_expense_ratio_fund','portfolio_stocks',\n",
    "       'price_earnings', 'price_book', 'price_sales', 'price_cashflow',\n",
    "       'basic_materials', 'consumer_cyclical', 'financial_services',\n",
    "       'real_estate', 'consumer_defensive', 'healthcare', 'utilities',\n",
    "       'communication_services', 'energy', 'industrials', 'technology', 'fund_beta_3years',\n",
    "       'fund_beta_5years', 'fund_beta_10years',\n",
    "       'fund_standard_deviation_3years', 'fund_standard_deviation_5years',\n",
    "       'fund_standard_deviation_10years', 'fund_return_10years']"
   ]
  },
  {
   "cell_type": "code",
   "execution_count": 6,
   "metadata": {},
   "outputs": [],
   "source": [
    "df_mf = df_mf[selected_columns]"
   ]
  },
  {
   "cell_type": "code",
   "execution_count": 7,
   "metadata": {
    "scrolled": true
   },
   "outputs": [
    {
     "data": {
      "text/plain": [
       "8558"
      ]
     },
     "execution_count": 7,
     "metadata": {},
     "output_type": "execute_result"
    }
   ],
   "source": [
    "# get number of rows in this subset\n",
    "df_mf.shape[0]"
   ]
  },
  {
   "cell_type": "code",
   "execution_count": 8,
   "metadata": {
    "scrolled": true
   },
   "outputs": [
    {
     "data": {
      "text/plain": [
       "44"
      ]
     },
     "execution_count": 8,
     "metadata": {},
     "output_type": "execute_result"
    }
   ],
   "source": [
    "# number of rows with missing data\n",
    "df_mf.shape[0] - df_mf.dropna().shape[0]"
   ]
  },
  {
   "cell_type": "code",
   "execution_count": 9,
   "metadata": {},
   "outputs": [],
   "source": [
    "df_mf.dropna(inplace=True)"
   ]
  },
  {
   "cell_type": "code",
   "execution_count": 10,
   "metadata": {},
   "outputs": [
    {
     "data": {
      "text/plain": [
       "0"
      ]
     },
     "execution_count": 10,
     "metadata": {},
     "output_type": "execute_result"
    }
   ],
   "source": [
    "# number of rows with missing data after those rows have been dropped\n",
    "df_mf.shape[0] - df_mf.dropna().shape[0]"
   ]
  },
  {
   "cell_type": "code",
   "execution_count": 11,
   "metadata": {},
   "outputs": [],
   "source": [
    "# separate y values from features\n",
    "s_rets = df_mf['fund_return_10years']\n",
    "df_mf = df_mf.drop('fund_return_10years',axis=1)"
   ]
  },
  {
   "cell_type": "code",
   "execution_count": 12,
   "metadata": {},
   "outputs": [
    {
     "data": {
      "text/plain": [
       "0.5494479680526192"
      ]
     },
     "execution_count": 12,
     "metadata": {},
     "output_type": "execute_result"
    }
   ],
   "source": [
    "# convert y values to binary variable for classification\n",
    "# see the distribution of 1s and 0s to make sure it is not lopsided\n",
    "# 13.6 is the 10 year (08-18) return of the S&P 500\n",
    "s_rets = s_rets > 13.6\n",
    "s_rets = s_rets.astype(int)\n",
    "sum(s_rets)/len(s_rets)"
   ]
  },
  {
   "cell_type": "markdown",
   "metadata": {},
   "source": [
    "Looking at the data for net assets, we see that the range of values is from the low tens of millions to the trillions. Now, since we don't want this feature to single-handedly affect the outcome of our classification model, we need to transform the data in this column. Taking the log of the data makes the spread more reasonable, so we will do that."
   ]
  },
  {
   "cell_type": "code",
   "execution_count": 13,
   "metadata": {
    "scrolled": true
   },
   "outputs": [
    {
     "data": {
      "image/png": "[encoded data removed]",
      "text/plain": [
       "<Figure size 432x288 with 1 Axes>"
      ]
     },
     "metadata": {
      "needs_background": "light"
     },
     "output_type": "display_data"
    }
   ],
   "source": [
    "plt.hist(df_mf['net_assets'])\n",
    "plt.show()"
   ]
  },
  {
   "cell_type": "code",
   "execution_count": 14,
   "metadata": {
    "scrolled": true
   },
   "outputs": [
    {
     "data": {
      "image/png": "[encoded data removed]",
      "text/plain": [
       "<Figure size 432x288 with 1 Axes>"
      ]
     },
     "metadata": {
      "needs_background": "light"
     },
     "output_type": "display_data"
    }
   ],
   "source": [
    "df_mf['net_assets'] = df_mf['net_assets'].apply(lambda x: math.log(x))\n",
    "\n",
    "plt.hist(df_mf['net_assets'])\n",
    "plt.show()"
   ]
  },
  {
   "cell_type": "markdown",
   "metadata": {},
   "source": [
    "Since many machine learning models cannot handle categorical data, we need to convert data in those columns to numerical data, which we will do through one-hot encoding. "
   ]
  },
  {
   "cell_type": "code",
   "execution_count": 15,
   "metadata": {},
   "outputs": [
    {
     "data": {
      "text/html": [
       "<div>\n",
       "<style scoped>\n",
       "    .dataframe tbody tr th:only-of-type {\n",
       "        vertical-align: middle;\n",
       "    }\n",
       "\n",
       "    .dataframe tbody tr th {\n",
       "        vertical-align: top;\n",
       "    }\n",
       "\n",
       "    .dataframe thead th {\n",
       "        text-align: right;\n",
       "    }\n",
       "</style>\n",
       "<table border=\"1\" class=\"dataframe\">\n",
       "  <thead>\n",
       "    <tr style=\"text-align: right;\">\n",
       "      <th></th>\n",
       "      <th>net_assets</th>\n",
       "      <th>fund_yield</th>\n",
       "      <th>net_annual_expense_ratio_fund</th>\n",
       "      <th>portfolio_stocks</th>\n",
       "      <th>price_earnings</th>\n",
       "      <th>price_book</th>\n",
       "      <th>price_sales</th>\n",
       "      <th>price_cashflow</th>\n",
       "      <th>basic_materials</th>\n",
       "      <th>consumer_cyclical</th>\n",
       "      <th>...</th>\n",
       "      <th>fund_beta_10years</th>\n",
       "      <th>fund_standard_deviation_3years</th>\n",
       "      <th>fund_standard_deviation_5years</th>\n",
       "      <th>fund_standard_deviation_10years</th>\n",
       "      <th>investment_Blend</th>\n",
       "      <th>investment_Growth</th>\n",
       "      <th>investment_Value</th>\n",
       "      <th>size_Large</th>\n",
       "      <th>size_Medium</th>\n",
       "      <th>size_Small</th>\n",
       "    </tr>\n",
       "  </thead>\n",
       "  <tbody>\n",
       "    <tr>\n",
       "      <th>2</th>\n",
       "      <td>20.800227</td>\n",
       "      <td>0.0</td>\n",
       "      <td>1.15</td>\n",
       "      <td>97.06</td>\n",
       "      <td>24.49</td>\n",
       "      <td>5.78</td>\n",
       "      <td>4.45</td>\n",
       "      <td>14.29</td>\n",
       "      <td>0.00</td>\n",
       "      <td>20.20</td>\n",
       "      <td>...</td>\n",
       "      <td>1.11</td>\n",
       "      <td>13.36</td>\n",
       "      <td>13.40</td>\n",
       "      <td>14.89</td>\n",
       "      <td>0</td>\n",
       "      <td>1</td>\n",
       "      <td>0</td>\n",
       "      <td>1</td>\n",
       "      <td>0</td>\n",
       "      <td>0</td>\n",
       "    </tr>\n",
       "    <tr>\n",
       "      <th>24</th>\n",
       "      <td>18.265780</td>\n",
       "      <td>1.0</td>\n",
       "      <td>1.79</td>\n",
       "      <td>99.99</td>\n",
       "      <td>12.29</td>\n",
       "      <td>1.61</td>\n",
       "      <td>0.85</td>\n",
       "      <td>10.20</td>\n",
       "      <td>7.56</td>\n",
       "      <td>29.10</td>\n",
       "      <td>...</td>\n",
       "      <td>1.01</td>\n",
       "      <td>13.76</td>\n",
       "      <td>17.00</td>\n",
       "      <td>20.17</td>\n",
       "      <td>1</td>\n",
       "      <td>0</td>\n",
       "      <td>0</td>\n",
       "      <td>1</td>\n",
       "      <td>0</td>\n",
       "      <td>0</td>\n",
       "    </tr>\n",
       "    <tr>\n",
       "      <th>26</th>\n",
       "      <td>20.163775</td>\n",
       "      <td>1.0</td>\n",
       "      <td>0.86</td>\n",
       "      <td>95.43</td>\n",
       "      <td>12.69</td>\n",
       "      <td>1.53</td>\n",
       "      <td>0.92</td>\n",
       "      <td>5.03</td>\n",
       "      <td>4.37</td>\n",
       "      <td>15.77</td>\n",
       "      <td>...</td>\n",
       "      <td>1.21</td>\n",
       "      <td>14.53</td>\n",
       "      <td>14.40</td>\n",
       "      <td>16.23</td>\n",
       "      <td>0</td>\n",
       "      <td>0</td>\n",
       "      <td>1</td>\n",
       "      <td>0</td>\n",
       "      <td>1</td>\n",
       "      <td>0</td>\n",
       "    </tr>\n",
       "    <tr>\n",
       "      <th>30</th>\n",
       "      <td>16.064695</td>\n",
       "      <td>0.0</td>\n",
       "      <td>1.95</td>\n",
       "      <td>89.52</td>\n",
       "      <td>26.07</td>\n",
       "      <td>3.46</td>\n",
       "      <td>2.06</td>\n",
       "      <td>16.87</td>\n",
       "      <td>5.56</td>\n",
       "      <td>12.50</td>\n",
       "      <td>...</td>\n",
       "      <td>1.06</td>\n",
       "      <td>12.94</td>\n",
       "      <td>12.14</td>\n",
       "      <td>17.56</td>\n",
       "      <td>0</td>\n",
       "      <td>1</td>\n",
       "      <td>0</td>\n",
       "      <td>0</td>\n",
       "      <td>1</td>\n",
       "      <td>0</td>\n",
       "    </tr>\n",
       "    <tr>\n",
       "      <th>35</th>\n",
       "      <td>22.481124</td>\n",
       "      <td>2.0</td>\n",
       "      <td>0.62</td>\n",
       "      <td>94.77</td>\n",
       "      <td>12.54</td>\n",
       "      <td>1.76</td>\n",
       "      <td>1.23</td>\n",
       "      <td>3.69</td>\n",
       "      <td>3.67</td>\n",
       "      <td>10.58</td>\n",
       "      <td>...</td>\n",
       "      <td>1.09</td>\n",
       "      <td>12.88</td>\n",
       "      <td>13.06</td>\n",
       "      <td>14.31</td>\n",
       "      <td>0</td>\n",
       "      <td>0</td>\n",
       "      <td>1</td>\n",
       "      <td>1</td>\n",
       "      <td>0</td>\n",
       "      <td>0</td>\n",
       "    </tr>\n",
       "  </tbody>\n",
       "</table>\n",
       "<p>5 rows × 31 columns</p>\n",
       "</div>"
      ],
      "text/plain": [
       "    net_assets  fund_yield  net_annual_expense_ratio_fund  portfolio_stocks  \\\n",
       "2    20.800227         0.0                           1.15             97.06   \n",
       "24   18.265780         1.0                           1.79             99.99   \n",
       "26   20.163775         1.0                           0.86             95.43   \n",
       "30   16.064695         0.0                           1.95             89.52   \n",
       "35   22.481124         2.0                           0.62             94.77   \n",
       "\n",
       "    price_earnings  price_book  price_sales  price_cashflow  basic_materials  \\\n",
       "2            24.49        5.78         4.45           14.29             0.00   \n",
       "24           12.29        1.61         0.85           10.20             7.56   \n",
       "26           12.69        1.53         0.92            5.03             4.37   \n",
       "30           26.07        3.46         2.06           16.87             5.56   \n",
       "35           12.54        1.76         1.23            3.69             3.67   \n",
       "\n",
       "    consumer_cyclical  ...  fund_beta_10years  fund_standard_deviation_3years  \\\n",
       "2               20.20  ...               1.11                           13.36   \n",
       "24              29.10  ...               1.01                           13.76   \n",
       "26              15.77  ...               1.21                           14.53   \n",
       "30              12.50  ...               1.06                           12.94   \n",
       "35              10.58  ...               1.09                           12.88   \n",
       "\n",
       "    fund_standard_deviation_5years  fund_standard_deviation_10years  \\\n",
       "2                            13.40                            14.89   \n",
       "24                           17.00                            20.17   \n",
       "26                           14.40                            16.23   \n",
       "30                           12.14                            17.56   \n",
       "35                           13.06                            14.31   \n",
       "\n",
       "    investment_Blend  investment_Growth  investment_Value  size_Large  \\\n",
       "2                  0                  1                 0           1   \n",
       "24                 1                  0                 0           1   \n",
       "26                 0                  0                 1           0   \n",
       "30                 0                  1                 0           0   \n",
       "35                 0                  0                 1           1   \n",
       "\n",
       "    size_Medium  size_Small  \n",
       "2             0           0  \n",
       "24            0           0  \n",
       "26            1           0  \n",
       "30            1           0  \n",
       "35            0           0  \n",
       "\n",
       "[5 rows x 31 columns]"
      ]
     },
     "execution_count": 15,
     "metadata": {},
     "output_type": "execute_result"
    }
   ],
   "source": [
    "investment_dummies = pd.get_dummies(df_mf['investment'],prefix=\"investment\")\n",
    "size_dummies = pd.get_dummies(df_mf['size'],prefix=\"size\")\n",
    "\n",
    "df_mf = pd.concat([df_mf,investment_dummies,size_dummies], axis=1)\n",
    "df_mf = df_mf.drop(['investment','size'],axis=1)\n",
    "\n",
    "df_mf.head()"
   ]
  },
  {
   "cell_type": "markdown",
   "metadata": {},
   "source": [
    "Now we will split the dataset into a training and test set. We will use the former to train the model, and the latter to evaluate its performance."
   ]
  },
  {
   "cell_type": "code",
   "execution_count": 18,
   "metadata": {},
   "outputs": [],
   "source": [
    "X_train, X_test, y_train, y_test = train_test_split(df_mf, s_rets, test_size=0.20, random_state=42)\n",
    "\n",
    "X_train = X_train.reset_index(drop=True)\n",
    "X_test = X_test.reset_index(drop=True)\n",
    "\n",
    "y_train = y_train.reset_index(drop=True)\n",
    "y_test = y_test.reset_index(drop=True)"
   ]
  },
  {
   "cell_type": "markdown",
   "metadata": {},
   "source": [
    "Since each column has different units, we need to scale the data in each column to a value between 0 and 1. To avoid the curse of dimensionality, we need to perform PCA on our feature space to transform our large dataset into a smaller one (referring to the number of columns here) that still captures most of the information in the larger one.  "
   ]
  },
  {
   "cell_type": "code",
   "execution_count": 19,
   "metadata": {},
   "outputs": [
    {
     "name": "stdout",
     "output_type": "stream",
     "text": [
      "31\n"
     ]
    },
    {
     "data": {
      "text/plain": [
       "10"
      ]
     },
     "execution_count": 19,
     "metadata": {},
     "output_type": "execute_result"
    }
   ],
   "source": [
    "scaler = MinMaxScaler()\n",
    "X_train_scaled = scaler.fit_transform(X_train.to_numpy())\n",
    "X_test_scaled = scaler.transform(X_test.to_numpy())\n",
    "\n",
    "pca = PCA(.95)\n",
    "\n",
    "pca.fit(X_train_scaled)\n",
    "\n",
    "X_train_pca = pca.transform(X_train_scaled)\n",
    "X_test_pca = pca.transform(X_test_scaled)\n",
    "\n",
    "# print number of columns in old and new datasets\n",
    "print(X_train_scaled.shape[1])\n",
    "pca.n_components_"
   ]
  },
  {
   "cell_type": "markdown",
   "metadata": {},
   "source": [
    "**Model Training and Testing**"
   ]
  },
  {
   "cell_type": "markdown",
   "metadata": {},
   "source": [
    "In this next section, we will test out 6 different models."
   ]
  },
  {
   "cell_type": "code",
   "execution_count": 29,
   "metadata": {},
   "outputs": [],
   "source": [
    "from sklearn.neighbors import KNeighborsClassifier\n",
    "from sklearn.linear_model import LogisticRegression\n",
    "from sklearn.svm import SVC\n",
    "from sklearn.tree import DecisionTreeClassifier\n",
    "from sklearn.ensemble import AdaBoostClassifier, RandomForestClassifier"
   ]
  },
  {
   "cell_type": "markdown",
   "metadata": {},
   "source": [
    "**K-Nearest Neighbors Algorithm**"
   ]
  },
  {
   "cell_type": "code",
   "execution_count": 35,
   "metadata": {},
   "outputs": [
    {
     "name": "stdout",
     "output_type": "stream",
     "text": [
      "Best params: {'n_neighbors': 3}\n",
      "Average train accuracy: 89.796\n"
     ]
    }
   ],
   "source": [
    "knn_clf = KNeighborsClassifier()\n",
    "knn_params = {'n_neighbors' : list(range(3,52,2))}\n",
    "\n",
    "knn_gridsearch = GridSearchCV(knn_clf,knn_params,cv=5,scoring='accuracy', n_jobs=-1)\n",
    "knn_gridsearch.fit(X_train_pca,y_train.to_numpy())\n",
    "\n",
    "print(\"Best params:\",knn_gridsearch.best_params_)\n",
    "best_knn = knn_gridsearch.best_estimator_\n",
    "\n",
    "knn_accuracy = cross_val_score(best_knn,X_train_pca, y_train.to_numpy(), cv=5, scoring='accuracy', n_jobs=-1)\n",
    "print('Average train accuracy:', round(sum(knn_accuracy)/len(knn_accuracy)*100,3))\n",
    "\n",
    "knn_preds = best_knn.predict(X_test_pca)"
   ]
  },
  {
   "cell_type": "code",
   "execution_count": 36,
   "metadata": {},
   "outputs": [
    {
     "name": "stdout",
     "output_type": "stream",
     "text": [
      "[[659 106]\n",
      " [ 61 877]]\n",
      "              precision    recall  f1-score   support\n",
      "\n",
      "           0       0.92      0.86      0.89       765\n",
      "           1       0.89      0.93      0.91       938\n",
      "\n",
      "    accuracy                           0.90      1703\n",
      "   macro avg       0.90      0.90      0.90      1703\n",
      "weighted avg       0.90      0.90      0.90      1703\n",
      "\n"
     ]
    }
   ],
   "source": [
    "print(confusion_matrix(y_test.to_numpy(), knn_preds))\n",
    "print(classification_report(y_test.to_numpy(), knn_preds))"
   ]
  },
  {
   "cell_type": "markdown",
   "metadata": {},
   "source": [
    "**Support Vector Machine**"
   ]
  },
  {
   "cell_type": "code",
   "execution_count": 37,
   "metadata": {},
   "outputs": [
    {
     "name": "stdout",
     "output_type": "stream",
     "text": [
      "Best params: {'C': 100, 'degree': 5, 'gamma': 'scale', 'kernel': 'poly'}\n",
      "Average train accuracy: 85.288\n"
     ]
    }
   ],
   "source": [
    "svm_clf = SVC()\n",
    "svm_params = {\n",
    "    'C':[0.1,0.5,1,5,10,50,100],\n",
    "    'gamma':['scale','auto'],\n",
    "    'kernel':['linear', 'poly', 'rbf', 'sigmoid'],\n",
    "    'degree':[1,2,3,4,5]\n",
    "}\n",
    "\n",
    "svm_gridsearch = GridSearchCV(svm_clf, svm_params, cv=5, scoring='accuracy', n_jobs=-1)\n",
    "svm_gridsearch.fit(X_train_pca, y_train.to_numpy())\n",
    "\n",
    "print(\"Best params:\",svm_gridsearch.best_params_)\n",
    "best_svm = svm_gridsearch.best_estimator_\n",
    "\n",
    "svm_accuracy = cross_val_score(best_svm, X_train_pca, y_train.to_numpy(), cv=5, scoring = 'accuracy', n_jobs=-1)\n",
    "print('Average train accuracy:',round(sum(svm_accuracy)/len(svm_accuracy)*100,3))\n",
    "\n",
    "svm_preds = best_svm.predict(X_test_pca)"
   ]
  },
  {
   "cell_type": "code",
   "execution_count": 38,
   "metadata": {},
   "outputs": [
    {
     "name": "stdout",
     "output_type": "stream",
     "text": [
      "[[601 164]\n",
      " [116 822]]\n",
      "              precision    recall  f1-score   support\n",
      "\n",
      "           0       0.84      0.79      0.81       765\n",
      "           1       0.83      0.88      0.85       938\n",
      "\n",
      "    accuracy                           0.84      1703\n",
      "   macro avg       0.84      0.83      0.83      1703\n",
      "weighted avg       0.84      0.84      0.83      1703\n",
      "\n"
     ]
    }
   ],
   "source": [
    "print(confusion_matrix(y_test.to_numpy(), svm_preds))\n",
    "print(classification_report(y_test.to_numpy(), svm_preds))"
   ]
  },
  {
   "cell_type": "markdown",
   "metadata": {},
   "source": [
    "**Logistic Regression**"
   ]
  },
  {
   "cell_type": "code",
   "execution_count": 41,
   "metadata": {},
   "outputs": [
    {
     "name": "stdout",
     "output_type": "stream",
     "text": [
      "Best params: {'C': 5, 'penalty': 'l2', 'solver': 'liblinear'}\n",
      "Average train accuracy: 80.619\n"
     ]
    }
   ],
   "source": [
    "lr_clf = LogisticRegression(random_state=42)\n",
    "lr_params = {\n",
    "    'C':[0.1,0.5,1,5,10,50,100],\n",
    "    'penalty':['l2'],\n",
    "    'solver':['liblinear', 'sag', 'lbfgs', 'newton-cg']\n",
    "}\n",
    "\n",
    "lr_gridsearch = GridSearchCV(lr_clf, lr_params, cv=5, scoring='accuracy', n_jobs=-1)\n",
    "lr_gridsearch.fit(X_train_pca, y_train.to_numpy())\n",
    "\n",
    "print(\"Best params:\",lr_gridsearch.best_params_)\n",
    "best_lr = lr_gridsearch.best_estimator_\n",
    "\n",
    "lr_accuracy = cross_val_score(best_lr, X_train_pca, y_train.to_numpy(), cv=5, scoring = 'accuracy', n_jobs=-1)\n",
    "print('Average train accuracy:',round(sum(lr_accuracy)/len(lr_accuracy)*100,3))\n",
    "\n",
    "lr_preds = best_lr.predict(X_test_pca)"
   ]
  },
  {
   "cell_type": "code",
   "execution_count": 42,
   "metadata": {},
   "outputs": [
    {
     "name": "stdout",
     "output_type": "stream",
     "text": [
      "[[554 211]\n",
      " [160 778]]\n",
      "              precision    recall  f1-score   support\n",
      "\n",
      "           0       0.78      0.72      0.75       765\n",
      "           1       0.79      0.83      0.81       938\n",
      "\n",
      "    accuracy                           0.78      1703\n",
      "   macro avg       0.78      0.78      0.78      1703\n",
      "weighted avg       0.78      0.78      0.78      1703\n",
      "\n"
     ]
    }
   ],
   "source": [
    "print(confusion_matrix(y_test.to_numpy(), lr_preds))\n",
    "print(classification_report(y_test.to_numpy(), lr_preds))"
   ]
  },
  {
   "cell_type": "markdown",
   "metadata": {},
   "source": [
    "**Decision Tree Classifier**"
   ]
  },
  {
   "cell_type": "code",
   "execution_count": 44,
   "metadata": {},
   "outputs": [
    {
     "name": "stdout",
     "output_type": "stream",
     "text": [
      "Best params: {'criterion': 'gini', 'max_depth': 15, 'max_features': 'log2', 'splitter': 'best'}\n",
      "Average train accuracy: 88.665\n"
     ]
    }
   ],
   "source": [
    "dtc_clf = DecisionTreeClassifier(random_state=42)\n",
    "dtc_params = {\n",
    "    'criterion':['gini','entropy'],\n",
    "    'splitter':['best','random'],\n",
    "    'max_depth':[5,10,15,20],\n",
    "    'max_features':['log2', 'sqrt'],\n",
    "    'min_samples_leaf':[5,10,15]\n",
    "}\n",
    "\n",
    "dtc_gridsearch = GridSearchCV(dtc_clf, dtc_params, cv=5, scoring='accuracy', n_jobs=-1)\n",
    "dtc_gridsearch.fit(X_train_pca, y_train.to_numpy())\n",
    "\n",
    "print(\"Best params:\",dtc_gridsearch.best_params_)\n",
    "best_dtc = dtc_gridsearch.best_estimator_\n",
    "\n",
    "dtc_accuracy = cross_val_score(best_dtc, X_train_pca, y_train.to_numpy(), cv=5, scoring = 'accuracy', n_jobs=-1)\n",
    "print('Average train accuracy:',round(sum(dtc_accuracy)/len(dtc_accuracy)*100,3))\n",
    "\n",
    "dtc_preds = best_dtc.predict(X_test_pca)"
   ]
  },
  {
   "cell_type": "code",
   "execution_count": 45,
   "metadata": {},
   "outputs": [
    {
     "name": "stdout",
     "output_type": "stream",
     "text": [
      "[[656 109]\n",
      " [ 78 860]]\n",
      "              precision    recall  f1-score   support\n",
      "\n",
      "           0       0.89      0.86      0.88       765\n",
      "           1       0.89      0.92      0.90       938\n",
      "\n",
      "    accuracy                           0.89      1703\n",
      "   macro avg       0.89      0.89      0.89      1703\n",
      "weighted avg       0.89      0.89      0.89      1703\n",
      "\n"
     ]
    }
   ],
   "source": [
    "print(confusion_matrix(y_test.to_numpy(), dtc_preds))\n",
    "print(classification_report(y_test.to_numpy(), dtc_preds))"
   ]
  },
  {
   "cell_type": "markdown",
   "metadata": {},
   "source": [
    "**AdaBoost Classifier**"
   ]
  },
  {
   "cell_type": "code",
   "execution_count": 46,
   "metadata": {},
   "outputs": [
    {
     "name": "stdout",
     "output_type": "stream",
     "text": [
      "Best params: {'n_estimators': 500}\n",
      "Average train accuracy: 84.466\n"
     ]
    }
   ],
   "source": [
    "adb_clf = AdaBoostClassifier(random_state=42)\n",
    "adb_params = {'n_estimators':[50,100,200,300,500]}\n",
    "\n",
    "adb_gridsearch = GridSearchCV(adb_clf, adb_params, cv=5, scoring='accuracy', n_jobs=-1)\n",
    "adb_gridsearch.fit(X_train_pca, y_train.to_numpy())\n",
    "\n",
    "print(\"Best params:\",adb_gridsearch.best_params_)\n",
    "best_adb = adb_gridsearch.best_estimator_\n",
    "\n",
    "adb_accuracy = cross_val_score(best_adb, X_train_pca, y_train.to_numpy(), cv=5, scoring = 'accuracy', n_jobs=-1)\n",
    "print('Average train accuracy:',round(sum(adb_accuracy)/len(adb_accuracy)*100,3))\n",
    "\n",
    "adb_preds = best_adb.predict(X_test_pca)"
   ]
  },
  {
   "cell_type": "code",
   "execution_count": 47,
   "metadata": {},
   "outputs": [
    {
     "name": "stdout",
     "output_type": "stream",
     "text": [
      "[[598 167]\n",
      " [107 831]]\n",
      "              precision    recall  f1-score   support\n",
      "\n",
      "           0       0.85      0.78      0.81       765\n",
      "           1       0.83      0.89      0.86       938\n",
      "\n",
      "    accuracy                           0.84      1703\n",
      "   macro avg       0.84      0.83      0.84      1703\n",
      "weighted avg       0.84      0.84      0.84      1703\n",
      "\n"
     ]
    }
   ],
   "source": [
    "print(confusion_matrix(y_test.to_numpy(), adb_preds))\n",
    "print(classification_report(y_test.to_numpy(), adb_preds))"
   ]
  },
  {
   "cell_type": "markdown",
   "metadata": {},
   "source": [
    "**Random Forest Classifier**"
   ]
  },
  {
   "cell_type": "code",
   "execution_count": 50,
   "metadata": {},
   "outputs": [
    {
     "name": "stdout",
     "output_type": "stream",
     "text": [
      "Best params: {'criterion': 'entropy', 'max_depth': 20, 'max_features': 'log2', 'min_samples_leaf': 5, 'n_estimators': 200}\n",
      "Average train accuracy: 90.647\n"
     ]
    }
   ],
   "source": [
    "rdf_clf = RandomForestClassifier(random_state=42)\n",
    "rdf_params = {\n",
    "    'n_estimators':[50,100,200],\n",
    "    'criterion':['gini','entropy'],\n",
    "    'max_depth':[5,10,15,20],\n",
    "    'max_features':['log2', 'sqrt'],\n",
    "    'min_samples_leaf':[5,10,15]\n",
    "}\n",
    "\n",
    "\n",
    "rdf_gridsearch = GridSearchCV(rdf_clf, rdf_params, cv=5, scoring='accuracy', n_jobs=-1)\n",
    "rdf_gridsearch.fit(X_train_pca, y_train.to_numpy())\n",
    "\n",
    "print(\"Best params:\",rdf_gridsearch.best_params_)\n",
    "best_rdf = rdf_gridsearch.best_estimator_\n",
    "\n",
    "rdf_accuracy = cross_val_score(best_rdf, X_train_pca, y_train.to_numpy(), cv=5, scoring = 'accuracy', n_jobs=-1)\n",
    "print('Average train accuracy:',round(sum(rdf_accuracy)/len(rdf_accuracy)*100,3))\n",
    "\n",
    "rdf_preds = best_rdf.predict(X_test_pca)"
   ]
  },
  {
   "cell_type": "code",
   "execution_count": 51,
   "metadata": {},
   "outputs": [
    {
     "name": "stdout",
     "output_type": "stream",
     "text": [
      "[[671  94]\n",
      " [ 57 881]]\n",
      "              precision    recall  f1-score   support\n",
      "\n",
      "           0       0.92      0.88      0.90       765\n",
      "           1       0.90      0.94      0.92       938\n",
      "\n",
      "    accuracy                           0.91      1703\n",
      "   macro avg       0.91      0.91      0.91      1703\n",
      "weighted avg       0.91      0.91      0.91      1703\n",
      "\n"
     ]
    }
   ],
   "source": [
    "print(confusion_matrix(y_test.to_numpy(), rdf_preds))\n",
    "print(classification_report(y_test.to_numpy(), rdf_preds))"
   ]
  },
  {
   "cell_type": "markdown",
   "metadata": {},
   "source": [
    "**Model Evaluation**"
   ]
  },
  {
   "cell_type": "markdown",
   "metadata": {},
   "source": [
    "After testing out the 6 different models, the results show that the RandomForest model is the best. It has the highest accuracy for both the train and test set, and it seems to avoid overfitting. "
   ]
  },
  {
   "cell_type": "markdown",
   "metadata": {},
   "source": [
    "**Test Model on ETF data**"
   ]
  },
  {
   "cell_type": "markdown",
   "metadata": {},
   "source": [
    "One last thing we should do is test our best model on ETF data. ETFs are similar to mutual funds, but still differ in their trading mechanism, liquidity, and management approach. Therefore, we expect ETFs and mutual funds that have similar characteristics to have similar returns, which in turn, should not affect our model's performance too much. That being said, it is reasonable to assume that the model's performance will not be as good as its performance on the mutual fund data."
   ]
  },
  {
   "cell_type": "code",
   "execution_count": 52,
   "metadata": {},
   "outputs": [
    {
     "data": {
      "text/plain": [
       "2352"
      ]
     },
     "execution_count": 52,
     "metadata": {},
     "output_type": "execute_result"
    }
   ],
   "source": [
    "# read data and get number of rows\n",
    "df_etfs = pd.read_csv('ETFs.csv',dtype=col_types)\n",
    "df_etfs.shape[0]"
   ]
  },
  {
   "cell_type": "code",
   "execution_count": 53,
   "metadata": {},
   "outputs": [],
   "source": [
    "# get rows that contain equity heavy funds with data for the investment column\n",
    "df_etfs = df_etfs[(df_etfs['investment'] == 'Blend') | (df_etfs['investment'] == 'Growth') | (df_etfs['investment'] == 'Value')]\n",
    "df_etfs = df_etfs[df_etfs['portfolio_stocks'] > 90]\n",
    "df_etfs = df_etfs[df_etfs['fund_return_10years'] != 0]"
   ]
  },
  {
   "cell_type": "code",
   "execution_count": 54,
   "metadata": {},
   "outputs": [],
   "source": [
    "# only get data for certain columns\n",
    "df_etfs = df_etfs[selected_columns]"
   ]
  },
  {
   "cell_type": "code",
   "execution_count": 55,
   "metadata": {},
   "outputs": [
    {
     "data": {
      "text/plain": [
       "505"
      ]
     },
     "execution_count": 55,
     "metadata": {},
     "output_type": "execute_result"
    }
   ],
   "source": [
    "# get number of rows in subset\n",
    "df_etfs.shape[0]"
   ]
  },
  {
   "cell_type": "code",
   "execution_count": 56,
   "metadata": {},
   "outputs": [
    {
     "data": {
      "text/plain": [
       "5"
      ]
     },
     "execution_count": 56,
     "metadata": {},
     "output_type": "execute_result"
    }
   ],
   "source": [
    "# number of rows with missing data\n",
    "# since this number is a small fraction of the total number of rows,\n",
    "# we can just drop these rows from the dataset\n",
    "df_etfs.shape[0] - df_etfs.dropna().shape[0]"
   ]
  },
  {
   "cell_type": "code",
   "execution_count": 57,
   "metadata": {},
   "outputs": [],
   "source": [
    "df_etfs.dropna(inplace=True)"
   ]
  },
  {
   "cell_type": "code",
   "execution_count": 58,
   "metadata": {},
   "outputs": [],
   "source": [
    "# separate dependent variables from features\n",
    "s_rets_etf = df_etfs['fund_return_10years']\n",
    "df_etfs = df_etfs.drop('fund_return_10years',axis=1)"
   ]
  },
  {
   "cell_type": "code",
   "execution_count": 59,
   "metadata": {},
   "outputs": [
    {
     "data": {
      "text/plain": [
       "0.446"
      ]
     },
     "execution_count": 59,
     "metadata": {},
     "output_type": "execute_result"
    }
   ],
   "source": [
    "# get class labels and see how balanced the distribition of labels is\n",
    "s_rets_etf = s_rets_etf > 13.6\n",
    "s_rets_etf = s_rets_etf.astype(int)\n",
    "sum(s_rets_etf)/len(s_rets_etf)"
   ]
  },
  {
   "cell_type": "markdown",
   "metadata": {},
   "source": [
    "Just as we transformed the net assets column for the mutual fund data, we must do the same to the ETF data."
   ]
  },
  {
   "cell_type": "code",
   "execution_count": 60,
   "metadata": {},
   "outputs": [
    {
     "data": {
      "image/png": "[encoded data removed]",
      "text/plain": [
       "<Figure size 432x288 with 1 Axes>"
      ]
     },
     "metadata": {
      "needs_background": "light"
     },
     "output_type": "display_data"
    }
   ],
   "source": [
    "plt.hist(df_etfs['net_assets'])\n",
    "plt.show()"
   ]
  },
  {
   "cell_type": "code",
   "execution_count": 61,
   "metadata": {},
   "outputs": [
    {
     "data": {
      "image/png": "[encoded data removed]",
      "text/plain": [
       "<Figure size 432x288 with 1 Axes>"
      ]
     },
     "metadata": {
      "needs_background": "light"
     },
     "output_type": "display_data"
    }
   ],
   "source": [
    "df_etfs['net_assets'] = df_etfs['net_assets'].apply(lambda x: math.log(x))\n",
    "\n",
    "plt.hist(df_etfs['net_assets'])\n",
    "plt.show()"
   ]
  },
  {
   "cell_type": "markdown",
   "metadata": {},
   "source": [
    "Same goes for creating dummy variables for investment and size."
   ]
  },
  {
   "cell_type": "code",
   "execution_count": 62,
   "metadata": {},
   "outputs": [
    {
     "data": {
      "text/html": [
       "<div>\n",
       "<style scoped>\n",
       "    .dataframe tbody tr th:only-of-type {\n",
       "        vertical-align: middle;\n",
       "    }\n",
       "\n",
       "    .dataframe tbody tr th {\n",
       "        vertical-align: top;\n",
       "    }\n",
       "\n",
       "    .dataframe thead th {\n",
       "        text-align: right;\n",
       "    }\n",
       "</style>\n",
       "<table border=\"1\" class=\"dataframe\">\n",
       "  <thead>\n",
       "    <tr style=\"text-align: right;\">\n",
       "      <th></th>\n",
       "      <th>net_assets</th>\n",
       "      <th>fund_yield</th>\n",
       "      <th>net_annual_expense_ratio_fund</th>\n",
       "      <th>portfolio_stocks</th>\n",
       "      <th>price_earnings</th>\n",
       "      <th>price_book</th>\n",
       "      <th>price_sales</th>\n",
       "      <th>price_cashflow</th>\n",
       "      <th>basic_materials</th>\n",
       "      <th>consumer_cyclical</th>\n",
       "      <th>...</th>\n",
       "      <th>fund_beta_10years</th>\n",
       "      <th>fund_standard_deviation_3years</th>\n",
       "      <th>fund_standard_deviation_5years</th>\n",
       "      <th>fund_standard_deviation_10years</th>\n",
       "      <th>investment_Blend</th>\n",
       "      <th>investment_Growth</th>\n",
       "      <th>investment_Value</th>\n",
       "      <th>size_Large</th>\n",
       "      <th>size_Medium</th>\n",
       "      <th>size_Small</th>\n",
       "    </tr>\n",
       "  </thead>\n",
       "  <tbody>\n",
       "    <tr>\n",
       "      <th>0</th>\n",
       "      <td>29.019812</td>\n",
       "      <td>1.84</td>\n",
       "      <td>0.00</td>\n",
       "      <td>100.00</td>\n",
       "      <td>12.92</td>\n",
       "      <td>1.18</td>\n",
       "      <td>0.81</td>\n",
       "      <td>5.41</td>\n",
       "      <td>7.81</td>\n",
       "      <td>17.26</td>\n",
       "      <td>...</td>\n",
       "      <td>0.99</td>\n",
       "      <td>14.38</td>\n",
       "      <td>14.75</td>\n",
       "      <td>16.89</td>\n",
       "      <td>1</td>\n",
       "      <td>0</td>\n",
       "      <td>0</td>\n",
       "      <td>1</td>\n",
       "      <td>0</td>\n",
       "      <td>0</td>\n",
       "    </tr>\n",
       "    <tr>\n",
       "      <th>1</th>\n",
       "      <td>29.762818</td>\n",
       "      <td>1.77</td>\n",
       "      <td>0.05</td>\n",
       "      <td>99.99</td>\n",
       "      <td>12.92</td>\n",
       "      <td>1.18</td>\n",
       "      <td>0.81</td>\n",
       "      <td>5.41</td>\n",
       "      <td>7.81</td>\n",
       "      <td>17.26</td>\n",
       "      <td>...</td>\n",
       "      <td>0.98</td>\n",
       "      <td>14.38</td>\n",
       "      <td>14.75</td>\n",
       "      <td>16.83</td>\n",
       "      <td>1</td>\n",
       "      <td>0</td>\n",
       "      <td>0</td>\n",
       "      <td>1</td>\n",
       "      <td>0</td>\n",
       "      <td>0</td>\n",
       "    </tr>\n",
       "    <tr>\n",
       "      <th>2</th>\n",
       "      <td>28.947429</td>\n",
       "      <td>1.84</td>\n",
       "      <td>0.00</td>\n",
       "      <td>99.08</td>\n",
       "      <td>12.92</td>\n",
       "      <td>1.18</td>\n",
       "      <td>0.81</td>\n",
       "      <td>5.44</td>\n",
       "      <td>7.74</td>\n",
       "      <td>17.33</td>\n",
       "      <td>...</td>\n",
       "      <td>0.99</td>\n",
       "      <td>14.38</td>\n",
       "      <td>14.75</td>\n",
       "      <td>16.90</td>\n",
       "      <td>1</td>\n",
       "      <td>0</td>\n",
       "      <td>0</td>\n",
       "      <td>1</td>\n",
       "      <td>0</td>\n",
       "      <td>0</td>\n",
       "    </tr>\n",
       "    <tr>\n",
       "      <th>3</th>\n",
       "      <td>21.375591</td>\n",
       "      <td>2.57</td>\n",
       "      <td>0.00</td>\n",
       "      <td>100.00</td>\n",
       "      <td>11.34</td>\n",
       "      <td>1.12</td>\n",
       "      <td>1.07</td>\n",
       "      <td>4.06</td>\n",
       "      <td>2.41</td>\n",
       "      <td>14.25</td>\n",
       "      <td>...</td>\n",
       "      <td>1.06</td>\n",
       "      <td>15.16</td>\n",
       "      <td>16.21</td>\n",
       "      <td>18.39</td>\n",
       "      <td>1</td>\n",
       "      <td>0</td>\n",
       "      <td>0</td>\n",
       "      <td>1</td>\n",
       "      <td>0</td>\n",
       "      <td>0</td>\n",
       "    </tr>\n",
       "    <tr>\n",
       "      <th>4</th>\n",
       "      <td>21.904993</td>\n",
       "      <td>1.82</td>\n",
       "      <td>0.00</td>\n",
       "      <td>99.90</td>\n",
       "      <td>11.34</td>\n",
       "      <td>1.12</td>\n",
       "      <td>1.07</td>\n",
       "      <td>4.07</td>\n",
       "      <td>2.44</td>\n",
       "      <td>14.26</td>\n",
       "      <td>...</td>\n",
       "      <td>1.06</td>\n",
       "      <td>15.16</td>\n",
       "      <td>16.22</td>\n",
       "      <td>18.38</td>\n",
       "      <td>1</td>\n",
       "      <td>0</td>\n",
       "      <td>0</td>\n",
       "      <td>1</td>\n",
       "      <td>0</td>\n",
       "      <td>0</td>\n",
       "    </tr>\n",
       "  </tbody>\n",
       "</table>\n",
       "<p>5 rows × 31 columns</p>\n",
       "</div>"
      ],
      "text/plain": [
       "   net_assets  fund_yield  net_annual_expense_ratio_fund  portfolio_stocks  \\\n",
       "0   29.019812        1.84                           0.00            100.00   \n",
       "1   29.762818        1.77                           0.05             99.99   \n",
       "2   28.947429        1.84                           0.00             99.08   \n",
       "3   21.375591        2.57                           0.00            100.00   \n",
       "4   21.904993        1.82                           0.00             99.90   \n",
       "\n",
       "   price_earnings  price_book  price_sales  price_cashflow  basic_materials  \\\n",
       "0           12.92        1.18         0.81            5.41             7.81   \n",
       "1           12.92        1.18         0.81            5.41             7.81   \n",
       "2           12.92        1.18         0.81            5.44             7.74   \n",
       "3           11.34        1.12         1.07            4.06             2.41   \n",
       "4           11.34        1.12         1.07            4.07             2.44   \n",
       "\n",
       "   consumer_cyclical  ...  fund_beta_10years  fund_standard_deviation_3years  \\\n",
       "0              17.26  ...               0.99                           14.38   \n",
       "1              17.26  ...               0.98                           14.38   \n",
       "2              17.33  ...               0.99                           14.38   \n",
       "3              14.25  ...               1.06                           15.16   \n",
       "4              14.26  ...               1.06                           15.16   \n",
       "\n",
       "   fund_standard_deviation_5years  fund_standard_deviation_10years  \\\n",
       "0                           14.75                            16.89   \n",
       "1                           14.75                            16.83   \n",
       "2                           14.75                            16.90   \n",
       "3                           16.21                            18.39   \n",
       "4                           16.22                            18.38   \n",
       "\n",
       "   investment_Blend  investment_Growth  investment_Value  size_Large  \\\n",
       "0                 1                  0                 0           1   \n",
       "1                 1                  0                 0           1   \n",
       "2                 1                  0                 0           1   \n",
       "3                 1                  0                 0           1   \n",
       "4                 1                  0                 0           1   \n",
       "\n",
       "   size_Medium  size_Small  \n",
       "0            0           0  \n",
       "1            0           0  \n",
       "2            0           0  \n",
       "3            0           0  \n",
       "4            0           0  \n",
       "\n",
       "[5 rows x 31 columns]"
      ]
     },
     "execution_count": 62,
     "metadata": {},
     "output_type": "execute_result"
    }
   ],
   "source": [
    "investment_dummies = pd.get_dummies(df_etfs['investment'],prefix=\"investment\")\n",
    "size_dummies = pd.get_dummies(df_etfs['size'],prefix=\"size\")\n",
    "\n",
    "df_etfs = pd.concat([df_etfs,investment_dummies,size_dummies], axis=1)\n",
    "df_etfs = df_etfs.drop(['investment','size'],axis=1)\n",
    "df_etfs.reset_index(inplace=True,drop=True)\n",
    "\n",
    "df_etfs.head()"
   ]
  },
  {
   "cell_type": "markdown",
   "metadata": {},
   "source": [
    "Apply the same scaler and PCA transformation to the ETF data"
   ]
  },
  {
   "cell_type": "code",
   "execution_count": 63,
   "metadata": {},
   "outputs": [],
   "source": [
    "X_etfs_scaled = scaler.transform(df_etfs.to_numpy())\n",
    "X_etfs_pca = pca.transform(X_etfs_scaled)"
   ]
  },
  {
   "cell_type": "markdown",
   "metadata": {},
   "source": [
    "Use the Random Forest Classifier we trained and tested before to predict whether or not each ETF will outperform the S&P 500 over 10 years. Then compare the predictions to the actual outcomes and see how our model performed."
   ]
  },
  {
   "cell_type": "code",
   "execution_count": 64,
   "metadata": {},
   "outputs": [
    {
     "data": {
      "text/plain": [
       "0.818"
      ]
     },
     "execution_count": 64,
     "metadata": {},
     "output_type": "execute_result"
    }
   ],
   "source": [
    "etf_acc = best_rdf.score(X_etfs_pca,s_rets_etf.to_numpy())\n",
    "etf_acc"
   ]
  },
  {
   "cell_type": "markdown",
   "metadata": {},
   "source": [
    "As you can see, there was a slight loss in performance, but not too severe. We can be assured that this model has some valid predictive power."
   ]
  }
 ],
 "metadata": {
  "kernelspec": {
   "display_name": "Python 3",
   "language": "python",
   "name": "python3"
  },
  "language_info": {
   "codemirror_mode": {
    "name": "ipython",
    "version": 3
   },
   "file_extension": ".py",
   "mimetype": "text/x-python",
   "name": "python",
   "nbconvert_exporter": "python",
   "pygments_lexer": "ipython3",
   "version": "3.8.5"
  }
 },
 "nbformat": 4,
 "nbformat_minor": 4
}
