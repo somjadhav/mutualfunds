{
 "cells": [
  {
   "cell_type": "code",
   "execution_count": 63,
   "metadata": {},
   "outputs": [],
   "source": [
    "import pandas as pd\n",
    "import numpy as np\n",
    "import matplotlib.pyplot as plt\n",
    "import math\n",
    "\n",
    "from sklearn.neighbors import KNeighborsClassifier\n",
    "from sklearn.model_selection import train_test_split\n",
    "from sklearn.preprocessing import MinMaxScaler\n",
    "from sklearn.decomposition import PCA\n",
    "\n",
    "%matplotlib inline"
   ]
  },
  {
   "cell_type": "code",
   "execution_count": 2,
   "metadata": {},
   "outputs": [],
   "source": [
    "col_types = {'net_assets':np.float64, 'fund_yield':np.float64,\n",
    "       'net_annual_expense_ratio_fund':np.float64,'portfolio_stocks':np.float64,\n",
    "       'price_earnings':np.float64, 'price_book':np.float64, 'price_sales':np.float64, 'price_cashflow':np.float64,\n",
    "       'basic_materials':np.float64, 'consumer_cyclical':np.float64, 'financial_services':np.float64,\n",
    "       'real_estate':np.float64, 'consumer_defensive':np.float64, 'healthcare':np.float64, 'utilities':np.float64,\n",
    "       'communication_services':np.float64, 'energy':np.float64, 'industrials':np.float64, 'technology':np.float64, \n",
    "       'fund_beta_3years':np.float64, 'fund_beta_5years':np.float64, 'fund_beta_10years':np.float64,\n",
    "       'fund_standard_deviation_3years':np.float64, 'fund_standard_deviation_5years':np.float64,\n",
    "       'fund_standard_deviation_10years':np.float64, 'fund_return_10years':np.float64}"
   ]
  },
  {
   "cell_type": "code",
   "execution_count": 27,
   "metadata": {},
   "outputs": [
    {
     "data": {
      "text/plain": [
       "25308"
      ]
     },
     "execution_count": 27,
     "metadata": {},
     "output_type": "execute_result"
    }
   ],
   "source": [
    "df_mf = pd.read_csv('mfdata.csv',dtype=col_types)\n",
    "df_mf.shape[0]"
   ]
  },
  {
   "cell_type": "code",
   "execution_count": 28,
   "metadata": {},
   "outputs": [],
   "source": [
    "df_mf = df_mf[(df_mf['investment'] == 'Blend') | (df_mf['investment'] == 'Growth') | (df_mf['investment'] == 'Value')]\n",
    "df_mf = df_mf[(df_mf['portfolio_stocks'] + df_mf['portfolio_cash']) > 95]\n",
    "df_mf = df_mf[df_mf['portfolio_stocks'] > 80]\n",
    "df_mf = df_mf[df_mf['fund_return_10years'] != 0]"
   ]
  },
  {
   "cell_type": "code",
   "execution_count": 29,
   "metadata": {
    "scrolled": false
   },
   "outputs": [],
   "source": [
    "#df_mf.columns"
   ]
  },
  {
   "cell_type": "code",
   "execution_count": 30,
   "metadata": {},
   "outputs": [],
   "source": [
    "selected_columns = [\n",
    "       'net_assets', 'fund_yield', 'investment', 'size',\n",
    "       'net_annual_expense_ratio_fund','portfolio_stocks',\n",
    "       'price_earnings', 'price_book', 'price_sales', 'price_cashflow',\n",
    "       'basic_materials', 'consumer_cyclical', 'financial_services',\n",
    "       'real_estate', 'consumer_defensive', 'healthcare', 'utilities',\n",
    "       'communication_services', 'energy', 'industrials', 'technology', 'fund_beta_3years',\n",
    "       'fund_beta_5years', 'fund_beta_10years',\n",
    "       'fund_standard_deviation_3years', 'fund_standard_deviation_5years',\n",
    "       'fund_standard_deviation_10years', 'fund_return_10years']"
   ]
  },
  {
   "cell_type": "code",
   "execution_count": 31,
   "metadata": {},
   "outputs": [],
   "source": [
    "df_mf = df_mf[selected_columns]"
   ]
  },
  {
   "cell_type": "code",
   "execution_count": 32,
   "metadata": {
    "scrolled": true
   },
   "outputs": [
    {
     "data": {
      "text/plain": [
       "8558"
      ]
     },
     "execution_count": 32,
     "metadata": {},
     "output_type": "execute_result"
    }
   ],
   "source": [
    "df_mf.shape[0]"
   ]
  },
  {
   "cell_type": "code",
   "execution_count": 33,
   "metadata": {
    "scrolled": true
   },
   "outputs": [
    {
     "data": {
      "text/plain": [
       "44"
      ]
     },
     "execution_count": 33,
     "metadata": {},
     "output_type": "execute_result"
    }
   ],
   "source": [
    "df_mf.shape[0] - df_mf.dropna().shape[0]"
   ]
  },
  {
   "cell_type": "code",
   "execution_count": 34,
   "metadata": {},
   "outputs": [],
   "source": [
    "df_mf.dropna(inplace=True)"
   ]
  },
  {
   "cell_type": "code",
   "execution_count": 35,
   "metadata": {},
   "outputs": [
    {
     "data": {
      "text/plain": [
       "0"
      ]
     },
     "execution_count": 35,
     "metadata": {},
     "output_type": "execute_result"
    }
   ],
   "source": [
    "df_mf.shape[0] - df_mf.dropna().shape[0]"
   ]
  },
  {
   "cell_type": "code",
   "execution_count": 36,
   "metadata": {},
   "outputs": [],
   "source": [
    "s_rets = df_mf['fund_return_10years']\n",
    "df_mf = df_mf.drop('fund_return_10years',axis=1)"
   ]
  },
  {
   "cell_type": "code",
   "execution_count": 37,
   "metadata": {},
   "outputs": [
    {
     "data": {
      "text/plain": [
       "0.5494479680526192"
      ]
     },
     "execution_count": 37,
     "metadata": {},
     "output_type": "execute_result"
    }
   ],
   "source": [
    "s_rets = s_rets > 13.6\n",
    "s_rets = s_rets.astype(int)\n",
    "sum(s_rets)/len(s_rets)"
   ]
  },
  {
   "cell_type": "code",
   "execution_count": 38,
   "metadata": {
    "scrolled": true
   },
   "outputs": [
    {
     "data": {
      "image/png": "[encoded data removed]",
      "text/plain": [
       "<Figure size 432x288 with 1 Axes>"
      ]
     },
     "metadata": {
      "needs_background": "light"
     },
     "output_type": "display_data"
    }
   ],
   "source": [
    "plt.hist(df_mf['net_assets'])\n",
    "plt.show()"
   ]
  },
  {
   "cell_type": "code",
   "execution_count": 40,
   "metadata": {
    "scrolled": true
   },
   "outputs": [
    {
     "data": {
      "image/png": "[encoded data removed]",
      "text/plain": [
       "<Figure size 432x288 with 1 Axes>"
      ]
     },
     "metadata": {
      "needs_background": "light"
     },
     "output_type": "display_data"
    }
   ],
   "source": [
    "df_mf['net_assets'] = df_mf['net_assets'].apply(lambda x: math.log(x))\n",
    "\n",
    "plt.hist(df_mf['net_assets'])\n",
    "plt.show()"
   ]
  },
  {
   "cell_type": "code",
   "execution_count": 42,
   "metadata": {},
   "outputs": [
    {
     "data": {
      "text/html": [
       "<div>\n",
       "<style scoped>\n",
       "    .dataframe tbody tr th:only-of-type {\n",
       "        vertical-align: middle;\n",
       "    }\n",
       "\n",
       "    .dataframe tbody tr th {\n",
       "        vertical-align: top;\n",
       "    }\n",
       "\n",
       "    .dataframe thead th {\n",
       "        text-align: right;\n",
       "    }\n",
       "</style>\n",
       "<table border=\"1\" class=\"dataframe\">\n",
       "  <thead>\n",
       "    <tr style=\"text-align: right;\">\n",
       "      <th></th>\n",
       "      <th>net_assets</th>\n",
       "      <th>fund_yield</th>\n",
       "      <th>net_annual_expense_ratio_fund</th>\n",
       "      <th>portfolio_stocks</th>\n",
       "      <th>price_earnings</th>\n",
       "      <th>price_book</th>\n",
       "      <th>price_sales</th>\n",
       "      <th>price_cashflow</th>\n",
       "      <th>basic_materials</th>\n",
       "      <th>consumer_cyclical</th>\n",
       "      <th>...</th>\n",
       "      <th>fund_beta_10years</th>\n",
       "      <th>fund_standard_deviation_3years</th>\n",
       "      <th>fund_standard_deviation_5years</th>\n",
       "      <th>fund_standard_deviation_10years</th>\n",
       "      <th>investment_Blend</th>\n",
       "      <th>investment_Growth</th>\n",
       "      <th>investment_Value</th>\n",
       "      <th>size_Large</th>\n",
       "      <th>size_Medium</th>\n",
       "      <th>size_Small</th>\n",
       "    </tr>\n",
       "  </thead>\n",
       "  <tbody>\n",
       "    <tr>\n",
       "      <th>2</th>\n",
       "      <td>20.800227</td>\n",
       "      <td>0.0</td>\n",
       "      <td>1.15</td>\n",
       "      <td>97.06</td>\n",
       "      <td>24.49</td>\n",
       "      <td>5.78</td>\n",
       "      <td>4.45</td>\n",
       "      <td>14.29</td>\n",
       "      <td>0.00</td>\n",
       "      <td>20.20</td>\n",
       "      <td>...</td>\n",
       "      <td>1.11</td>\n",
       "      <td>13.36</td>\n",
       "      <td>13.40</td>\n",
       "      <td>14.89</td>\n",
       "      <td>0</td>\n",
       "      <td>1</td>\n",
       "      <td>0</td>\n",
       "      <td>1</td>\n",
       "      <td>0</td>\n",
       "      <td>0</td>\n",
       "    </tr>\n",
       "    <tr>\n",
       "      <th>24</th>\n",
       "      <td>18.265780</td>\n",
       "      <td>1.0</td>\n",
       "      <td>1.79</td>\n",
       "      <td>99.99</td>\n",
       "      <td>12.29</td>\n",
       "      <td>1.61</td>\n",
       "      <td>0.85</td>\n",
       "      <td>10.20</td>\n",
       "      <td>7.56</td>\n",
       "      <td>29.10</td>\n",
       "      <td>...</td>\n",
       "      <td>1.01</td>\n",
       "      <td>13.76</td>\n",
       "      <td>17.00</td>\n",
       "      <td>20.17</td>\n",
       "      <td>1</td>\n",
       "      <td>0</td>\n",
       "      <td>0</td>\n",
       "      <td>1</td>\n",
       "      <td>0</td>\n",
       "      <td>0</td>\n",
       "    </tr>\n",
       "    <tr>\n",
       "      <th>26</th>\n",
       "      <td>20.163775</td>\n",
       "      <td>1.0</td>\n",
       "      <td>0.86</td>\n",
       "      <td>95.43</td>\n",
       "      <td>12.69</td>\n",
       "      <td>1.53</td>\n",
       "      <td>0.92</td>\n",
       "      <td>5.03</td>\n",
       "      <td>4.37</td>\n",
       "      <td>15.77</td>\n",
       "      <td>...</td>\n",
       "      <td>1.21</td>\n",
       "      <td>14.53</td>\n",
       "      <td>14.40</td>\n",
       "      <td>16.23</td>\n",
       "      <td>0</td>\n",
       "      <td>0</td>\n",
       "      <td>1</td>\n",
       "      <td>0</td>\n",
       "      <td>1</td>\n",
       "      <td>0</td>\n",
       "    </tr>\n",
       "    <tr>\n",
       "      <th>30</th>\n",
       "      <td>16.064695</td>\n",
       "      <td>0.0</td>\n",
       "      <td>1.95</td>\n",
       "      <td>89.52</td>\n",
       "      <td>26.07</td>\n",
       "      <td>3.46</td>\n",
       "      <td>2.06</td>\n",
       "      <td>16.87</td>\n",
       "      <td>5.56</td>\n",
       "      <td>12.50</td>\n",
       "      <td>...</td>\n",
       "      <td>1.06</td>\n",
       "      <td>12.94</td>\n",
       "      <td>12.14</td>\n",
       "      <td>17.56</td>\n",
       "      <td>0</td>\n",
       "      <td>1</td>\n",
       "      <td>0</td>\n",
       "      <td>0</td>\n",
       "      <td>1</td>\n",
       "      <td>0</td>\n",
       "    </tr>\n",
       "    <tr>\n",
       "      <th>35</th>\n",
       "      <td>22.481124</td>\n",
       "      <td>2.0</td>\n",
       "      <td>0.62</td>\n",
       "      <td>94.77</td>\n",
       "      <td>12.54</td>\n",
       "      <td>1.76</td>\n",
       "      <td>1.23</td>\n",
       "      <td>3.69</td>\n",
       "      <td>3.67</td>\n",
       "      <td>10.58</td>\n",
       "      <td>...</td>\n",
       "      <td>1.09</td>\n",
       "      <td>12.88</td>\n",
       "      <td>13.06</td>\n",
       "      <td>14.31</td>\n",
       "      <td>0</td>\n",
       "      <td>0</td>\n",
       "      <td>1</td>\n",
       "      <td>1</td>\n",
       "      <td>0</td>\n",
       "      <td>0</td>\n",
       "    </tr>\n",
       "  </tbody>\n",
       "</table>\n",
       "<p>5 rows × 31 columns</p>\n",
       "</div>"
      ],
      "text/plain": [
       "    net_assets  fund_yield  net_annual_expense_ratio_fund  portfolio_stocks  \\\n",
       "2    20.800227         0.0                           1.15             97.06   \n",
       "24   18.265780         1.0                           1.79             99.99   \n",
       "26   20.163775         1.0                           0.86             95.43   \n",
       "30   16.064695         0.0                           1.95             89.52   \n",
       "35   22.481124         2.0                           0.62             94.77   \n",
       "\n",
       "    price_earnings  price_book  price_sales  price_cashflow  basic_materials  \\\n",
       "2            24.49        5.78         4.45           14.29             0.00   \n",
       "24           12.29        1.61         0.85           10.20             7.56   \n",
       "26           12.69        1.53         0.92            5.03             4.37   \n",
       "30           26.07        3.46         2.06           16.87             5.56   \n",
       "35           12.54        1.76         1.23            3.69             3.67   \n",
       "\n",
       "    consumer_cyclical  ...  fund_beta_10years  fund_standard_deviation_3years  \\\n",
       "2               20.20  ...               1.11                           13.36   \n",
       "24              29.10  ...               1.01                           13.76   \n",
       "26              15.77  ...               1.21                           14.53   \n",
       "30              12.50  ...               1.06                           12.94   \n",
       "35              10.58  ...               1.09                           12.88   \n",
       "\n",
       "    fund_standard_deviation_5years  fund_standard_deviation_10years  \\\n",
       "2                            13.40                            14.89   \n",
       "24                           17.00                            20.17   \n",
       "26                           14.40                            16.23   \n",
       "30                           12.14                            17.56   \n",
       "35                           13.06                            14.31   \n",
       "\n",
       "    investment_Blend  investment_Growth  investment_Value  size_Large  \\\n",
       "2                  0                  1                 0           1   \n",
       "24                 1                  0                 0           1   \n",
       "26                 0                  0                 1           0   \n",
       "30                 0                  1                 0           0   \n",
       "35                 0                  0                 1           1   \n",
       "\n",
       "    size_Medium  size_Small  \n",
       "2             0           0  \n",
       "24            0           0  \n",
       "26            1           0  \n",
       "30            1           0  \n",
       "35            0           0  \n",
       "\n",
       "[5 rows x 31 columns]"
      ]
     },
     "execution_count": 42,
     "metadata": {},
     "output_type": "execute_result"
    }
   ],
   "source": [
    "investment_dummies = pd.get_dummies(df_mf['investment'],prefix=\"investment\")\n",
    "size_dummies = pd.get_dummies(df_mf['size'],prefix=\"size\")\n",
    "\n",
    "df_mf = pd.concat([df_mf,investment_dummies,size_dummies], axis=1)\n",
    "df_mf = df_mf.drop(['investment','size'],axis=1)\n",
    "\n",
    "df_mf.head()"
   ]
  },
  {
   "cell_type": "code",
   "execution_count": 75,
   "metadata": {},
   "outputs": [],
   "source": [
    "k_values = [x for x in range(3,11)]\n",
    "accuracy_test = []\n",
    "accuracy_train = []\n",
    "\n",
    "X_train, X_test, y_train, y_test = train_test_split(df_mf, s_rets, test_size=0.25, random_state=42)\n",
    "\n",
    "X_train = X_train.reset_index(drop=True)\n",
    "X_test = X_test.reset_index(drop=True)\n",
    "\n",
    "y_train = y_train.reset_index(drop=True)\n",
    "y_test = y_test.reset_index(drop=True)"
   ]
  },
  {
   "cell_type": "code",
   "execution_count": 76,
   "metadata": {},
   "outputs": [
    {
     "data": {
      "text/plain": [
       "18"
      ]
     },
     "execution_count": 76,
     "metadata": {},
     "output_type": "execute_result"
    }
   ],
   "source": [
    "scaler = MinMaxScaler()\n",
    "X_train_scaled = scaler.fit_transform(X_train.to_numpy())\n",
    "X_test_scaled = scaler.transform(X_test.to_numpy())\n",
    "\n",
    "pca = PCA(.99)\n",
    "\n",
    "pca.fit(X_train_scaled)\n",
    "\n",
    "X_train_scaled = pca.transform(X_train_scaled)\n",
    "X_test_scaled = pca.transform(X_test_scaled)\n",
    "\n",
    "pca.n_components_"
   ]
  },
  {
   "cell_type": "code",
   "execution_count": 77,
   "metadata": {},
   "outputs": [
    {
     "data": {
      "image/png": "[encoded data removed]",
      "text/plain": [
       "<Figure size 432x288 with 1 Axes>"
      ]
     },
     "metadata": {
      "needs_background": "light"
     },
     "output_type": "display_data"
    }
   ],
   "source": [
    "for val in k_values:\n",
    "    \n",
    "    knn = KNeighborsClassifier(n_neighbors = val,n_jobs=-1)\n",
    "    knn.fit(X_train_scaled, y_train.to_numpy())\n",
    "    \n",
    "    acc_test = knn.score(X_test_scaled,y_test.to_numpy())\n",
    "    accuracy_test.append(acc_test)\n",
    "    \n",
    "    acc_train = knn.score(X_train_scaled,y_train.to_numpy())\n",
    "    accuracy_train.append(acc_train)\n",
    "    \n",
    "plt.plot(k_values,accuracy_test,color='blue',label='test data')\n",
    "plt.plot(k_values,accuracy_train,color='red',label='training data')\n",
    "plt.legend(loc=\"upper right\")\n",
    "plt.title('KNN Classifier Performance')\n",
    "plt.xlabel('k')\n",
    "plt.ylabel('Accuracy')\n",
    "plt.show()"
   ]
  },
  {
   "cell_type": "code",
   "execution_count": 78,
   "metadata": {},
   "outputs": [
    {
     "data": {
      "text/plain": [
       "2352"
      ]
     },
     "execution_count": 78,
     "metadata": {},
     "output_type": "execute_result"
    }
   ],
   "source": [
    "df_etfs = pd.read_csv('ETFs.csv',dtype=col_types)\n",
    "df_etfs.shape[0]"
   ]
  },
  {
   "cell_type": "code",
   "execution_count": 79,
   "metadata": {},
   "outputs": [],
   "source": [
    "df_etfs = df_etfs[(df_etfs['investment'] == 'Blend') | (df_etfs['investment'] == 'Growth') | (df_etfs['investment'] == 'Value')]\n",
    "df_etfs = df_etfs[df_etfs['portfolio_stocks'] > 90]\n",
    "df_etfs = df_etfs[df_etfs['fund_return_10years'] != 0]"
   ]
  },
  {
   "cell_type": "code",
   "execution_count": 80,
   "metadata": {},
   "outputs": [],
   "source": [
    "df_etfs = df_etfs[selected_columns]"
   ]
  },
  {
   "cell_type": "code",
   "execution_count": 81,
   "metadata": {},
   "outputs": [
    {
     "data": {
      "text/plain": [
       "505"
      ]
     },
     "execution_count": 81,
     "metadata": {},
     "output_type": "execute_result"
    }
   ],
   "source": [
    "df_etfs.shape[0]"
   ]
  },
  {
   "cell_type": "code",
   "execution_count": 82,
   "metadata": {},
   "outputs": [
    {
     "data": {
      "text/plain": [
       "5"
      ]
     },
     "execution_count": 82,
     "metadata": {},
     "output_type": "execute_result"
    }
   ],
   "source": [
    "df_etfs.shape[0] - df_etfs.dropna().shape[0]"
   ]
  },
  {
   "cell_type": "code",
   "execution_count": 83,
   "metadata": {},
   "outputs": [],
   "source": [
    "df_etfs.dropna(inplace=True)"
   ]
  },
  {
   "cell_type": "code",
   "execution_count": 84,
   "metadata": {},
   "outputs": [],
   "source": [
    "s_rets_etf = df_etfs['fund_return_10years']\n",
    "df_etfs = df_etfs.drop('fund_return_10years',axis=1)"
   ]
  },
  {
   "cell_type": "code",
   "execution_count": 85,
   "metadata": {},
   "outputs": [
    {
     "data": {
      "text/plain": [
       "0.446"
      ]
     },
     "execution_count": 85,
     "metadata": {},
     "output_type": "execute_result"
    }
   ],
   "source": [
    "s_rets_etf = s_rets_etf > 13.6\n",
    "s_rets_etf = s_rets_etf.astype(int)\n",
    "sum(s_rets_etf)/len(s_rets_etf)"
   ]
  },
  {
   "cell_type": "code",
   "execution_count": 86,
   "metadata": {},
   "outputs": [
    {
     "data": {
      "image/png": "[encoded data removed]",
      "text/plain": [
       "<Figure size 432x288 with 1 Axes>"
      ]
     },
     "metadata": {
      "needs_background": "light"
     },
     "output_type": "display_data"
    }
   ],
   "source": [
    "plt.hist(df_etfs['net_assets'])\n",
    "plt.show()"
   ]
  },
  {
   "cell_type": "code",
   "execution_count": 87,
   "metadata": {},
   "outputs": [
    {
     "data": {
      "image/png": "[encoded data removed]",
      "text/plain": [
       "<Figure size 432x288 with 1 Axes>"
      ]
     },
     "metadata": {
      "needs_background": "light"
     },
     "output_type": "display_data"
    }
   ],
   "source": [
    "df_etfs['net_assets'] = df_etfs['net_assets'].apply(lambda x: math.log(x))\n",
    "\n",
    "plt.hist(df_etfs['net_assets'])\n",
    "plt.show()"
   ]
  },
  {
   "cell_type": "code",
   "execution_count": 88,
   "metadata": {},
   "outputs": [
    {
     "data": {
      "text/html": [
       "<div>\n",
       "<style scoped>\n",
       "    .dataframe tbody tr th:only-of-type {\n",
       "        vertical-align: middle;\n",
       "    }\n",
       "\n",
       "    .dataframe tbody tr th {\n",
       "        vertical-align: top;\n",
       "    }\n",
       "\n",
       "    .dataframe thead th {\n",
       "        text-align: right;\n",
       "    }\n",
       "</style>\n",
       "<table border=\"1\" class=\"dataframe\">\n",
       "  <thead>\n",
       "    <tr style=\"text-align: right;\">\n",
       "      <th></th>\n",
       "      <th>net_assets</th>\n",
       "      <th>fund_yield</th>\n",
       "      <th>net_annual_expense_ratio_fund</th>\n",
       "      <th>portfolio_stocks</th>\n",
       "      <th>price_earnings</th>\n",
       "      <th>price_book</th>\n",
       "      <th>price_sales</th>\n",
       "      <th>price_cashflow</th>\n",
       "      <th>basic_materials</th>\n",
       "      <th>consumer_cyclical</th>\n",
       "      <th>...</th>\n",
       "      <th>fund_beta_10years</th>\n",
       "      <th>fund_standard_deviation_3years</th>\n",
       "      <th>fund_standard_deviation_5years</th>\n",
       "      <th>fund_standard_deviation_10years</th>\n",
       "      <th>investment_Blend</th>\n",
       "      <th>investment_Growth</th>\n",
       "      <th>investment_Value</th>\n",
       "      <th>size_Large</th>\n",
       "      <th>size_Medium</th>\n",
       "      <th>size_Small</th>\n",
       "    </tr>\n",
       "  </thead>\n",
       "  <tbody>\n",
       "    <tr>\n",
       "      <th>0</th>\n",
       "      <td>29.019812</td>\n",
       "      <td>1.84</td>\n",
       "      <td>0.00</td>\n",
       "      <td>100.00</td>\n",
       "      <td>12.92</td>\n",
       "      <td>1.18</td>\n",
       "      <td>0.81</td>\n",
       "      <td>5.41</td>\n",
       "      <td>7.81</td>\n",
       "      <td>17.26</td>\n",
       "      <td>...</td>\n",
       "      <td>0.99</td>\n",
       "      <td>14.38</td>\n",
       "      <td>14.75</td>\n",
       "      <td>16.89</td>\n",
       "      <td>1</td>\n",
       "      <td>0</td>\n",
       "      <td>0</td>\n",
       "      <td>1</td>\n",
       "      <td>0</td>\n",
       "      <td>0</td>\n",
       "    </tr>\n",
       "    <tr>\n",
       "      <th>1</th>\n",
       "      <td>29.762818</td>\n",
       "      <td>1.77</td>\n",
       "      <td>0.05</td>\n",
       "      <td>99.99</td>\n",
       "      <td>12.92</td>\n",
       "      <td>1.18</td>\n",
       "      <td>0.81</td>\n",
       "      <td>5.41</td>\n",
       "      <td>7.81</td>\n",
       "      <td>17.26</td>\n",
       "      <td>...</td>\n",
       "      <td>0.98</td>\n",
       "      <td>14.38</td>\n",
       "      <td>14.75</td>\n",
       "      <td>16.83</td>\n",
       "      <td>1</td>\n",
       "      <td>0</td>\n",
       "      <td>0</td>\n",
       "      <td>1</td>\n",
       "      <td>0</td>\n",
       "      <td>0</td>\n",
       "    </tr>\n",
       "    <tr>\n",
       "      <th>2</th>\n",
       "      <td>28.947429</td>\n",
       "      <td>1.84</td>\n",
       "      <td>0.00</td>\n",
       "      <td>99.08</td>\n",
       "      <td>12.92</td>\n",
       "      <td>1.18</td>\n",
       "      <td>0.81</td>\n",
       "      <td>5.44</td>\n",
       "      <td>7.74</td>\n",
       "      <td>17.33</td>\n",
       "      <td>...</td>\n",
       "      <td>0.99</td>\n",
       "      <td>14.38</td>\n",
       "      <td>14.75</td>\n",
       "      <td>16.90</td>\n",
       "      <td>1</td>\n",
       "      <td>0</td>\n",
       "      <td>0</td>\n",
       "      <td>1</td>\n",
       "      <td>0</td>\n",
       "      <td>0</td>\n",
       "    </tr>\n",
       "    <tr>\n",
       "      <th>3</th>\n",
       "      <td>21.375591</td>\n",
       "      <td>2.57</td>\n",
       "      <td>0.00</td>\n",
       "      <td>100.00</td>\n",
       "      <td>11.34</td>\n",
       "      <td>1.12</td>\n",
       "      <td>1.07</td>\n",
       "      <td>4.06</td>\n",
       "      <td>2.41</td>\n",
       "      <td>14.25</td>\n",
       "      <td>...</td>\n",
       "      <td>1.06</td>\n",
       "      <td>15.16</td>\n",
       "      <td>16.21</td>\n",
       "      <td>18.39</td>\n",
       "      <td>1</td>\n",
       "      <td>0</td>\n",
       "      <td>0</td>\n",
       "      <td>1</td>\n",
       "      <td>0</td>\n",
       "      <td>0</td>\n",
       "    </tr>\n",
       "    <tr>\n",
       "      <th>4</th>\n",
       "      <td>21.904993</td>\n",
       "      <td>1.82</td>\n",
       "      <td>0.00</td>\n",
       "      <td>99.90</td>\n",
       "      <td>11.34</td>\n",
       "      <td>1.12</td>\n",
       "      <td>1.07</td>\n",
       "      <td>4.07</td>\n",
       "      <td>2.44</td>\n",
       "      <td>14.26</td>\n",
       "      <td>...</td>\n",
       "      <td>1.06</td>\n",
       "      <td>15.16</td>\n",
       "      <td>16.22</td>\n",
       "      <td>18.38</td>\n",
       "      <td>1</td>\n",
       "      <td>0</td>\n",
       "      <td>0</td>\n",
       "      <td>1</td>\n",
       "      <td>0</td>\n",
       "      <td>0</td>\n",
       "    </tr>\n",
       "  </tbody>\n",
       "</table>\n",
       "<p>5 rows × 31 columns</p>\n",
       "</div>"
      ],
      "text/plain": [
       "   net_assets  fund_yield  net_annual_expense_ratio_fund  portfolio_stocks  \\\n",
       "0   29.019812        1.84                           0.00            100.00   \n",
       "1   29.762818        1.77                           0.05             99.99   \n",
       "2   28.947429        1.84                           0.00             99.08   \n",
       "3   21.375591        2.57                           0.00            100.00   \n",
       "4   21.904993        1.82                           0.00             99.90   \n",
       "\n",
       "   price_earnings  price_book  price_sales  price_cashflow  basic_materials  \\\n",
       "0           12.92        1.18         0.81            5.41             7.81   \n",
       "1           12.92        1.18         0.81            5.41             7.81   \n",
       "2           12.92        1.18         0.81            5.44             7.74   \n",
       "3           11.34        1.12         1.07            4.06             2.41   \n",
       "4           11.34        1.12         1.07            4.07             2.44   \n",
       "\n",
       "   consumer_cyclical  ...  fund_beta_10years  fund_standard_deviation_3years  \\\n",
       "0              17.26  ...               0.99                           14.38   \n",
       "1              17.26  ...               0.98                           14.38   \n",
       "2              17.33  ...               0.99                           14.38   \n",
       "3              14.25  ...               1.06                           15.16   \n",
       "4              14.26  ...               1.06                           15.16   \n",
       "\n",
       "   fund_standard_deviation_5years  fund_standard_deviation_10years  \\\n",
       "0                           14.75                            16.89   \n",
       "1                           14.75                            16.83   \n",
       "2                           14.75                            16.90   \n",
       "3                           16.21                            18.39   \n",
       "4                           16.22                            18.38   \n",
       "\n",
       "   investment_Blend  investment_Growth  investment_Value  size_Large  \\\n",
       "0                 1                  0                 0           1   \n",
       "1                 1                  0                 0           1   \n",
       "2                 1                  0                 0           1   \n",
       "3                 1                  0                 0           1   \n",
       "4                 1                  0                 0           1   \n",
       "\n",
       "   size_Medium  size_Small  \n",
       "0            0           0  \n",
       "1            0           0  \n",
       "2            0           0  \n",
       "3            0           0  \n",
       "4            0           0  \n",
       "\n",
       "[5 rows x 31 columns]"
      ]
     },
     "execution_count": 88,
     "metadata": {},
     "output_type": "execute_result"
    }
   ],
   "source": [
    "investment_dummies = pd.get_dummies(df_etfs['investment'],prefix=\"investment\")\n",
    "size_dummies = pd.get_dummies(df_etfs['size'],prefix=\"size\")\n",
    "\n",
    "df_etfs = pd.concat([df_etfs,investment_dummies,size_dummies], axis=1)\n",
    "df_etfs = df_etfs.drop(['investment','size'],axis=1)\n",
    "df_etfs.reset_index(inplace=True,drop=True)\n",
    "\n",
    "df_etfs.head()"
   ]
  },
  {
   "cell_type": "code",
   "execution_count": 89,
   "metadata": {},
   "outputs": [],
   "source": [
    "X_etfs_scaled = scaler.transform(df_etfs.to_numpy())\n",
    "X_etfs_scaled = pca.transform(X_etfs_scaled)"
   ]
  },
  {
   "cell_type": "code",
   "execution_count": 90,
   "metadata": {},
   "outputs": [],
   "source": [
    "knn = KNeighborsClassifier(n_neighbors = 3,n_jobs=-1)\n",
    "knn.fit(X_train_scaled, y_train.to_numpy())\n",
    "\n",
    "etf_acc = knn.score(X_etfs_scaled,s_rets_etf.to_numpy())"
   ]
  },
  {
   "cell_type": "code",
   "execution_count": 91,
   "metadata": {},
   "outputs": [
    {
     "data": {
      "text/plain": [
       "0.798"
      ]
     },
     "execution_count": 91,
     "metadata": {},
     "output_type": "execute_result"
    }
   ],
   "source": [
    "etf_acc"
   ]
  }
 ],
 "metadata": {
  "kernelspec": {
   "display_name": "Python 3",
   "language": "python",
   "name": "python3"
  },
  "language_info": {
   "codemirror_mode": {
    "name": "ipython",
    "version": 3
   },
   "file_extension": ".py",
   "mimetype": "text/x-python",
   "name": "python",
   "nbconvert_exporter": "python",
   "pygments_lexer": "ipython3",
   "version": "3.8.5"
  }
 },
 "nbformat": 4,
 "nbformat_minor": 4
}
